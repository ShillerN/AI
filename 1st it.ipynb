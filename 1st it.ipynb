{
 "cells": [
  {
   "cell_type": "markdown",
   "metadata": {},
   "source": [
    "## Machine Learning Model Selection"
   ]
  },
  {
   "cell_type": "code",
   "execution_count": 3,
   "metadata": {},
   "outputs": [],
   "source": [
    "import streamlit as st\n",
    "import pandas as pd\n",
    "from sklearn.model_selection import train_test_split\n",
    "from sklearn.linear_model import LinearRegression\n",
    "import numpy as np"
   ]
  },
  {
   "cell_type": "code",
   "execution_count": 5,
   "metadata": {},
   "outputs": [],
   "source": [
    "# Page\n",
    "st.title('Machine Learning Model Selection')\n",
    "\n",
    "page = st.sidebar.selectbox(\"Select Page\", [\"Model Selection\"])\n",
    "\n",
    "if page == \"Model Selection\":\n",
    "    st.header('Regression Model Selection')\n",
    "    uploaded_file = st.file_uploader(\"Upload dataset\", type=[\"csv\", \"txt\"])\n",
    "    \n",
    "    if uploaded_file is not None:\n",
    "        # Read dataset\n",
    "        df = pd.read_csv(uploaded_file)\n",
    "\n",
    "        # Show dataset\n",
    "        st.write(\"Preview of the dataset:\")\n",
    "        st.write(df.head())\n",
    "\n",
    "        # Sidebar for selecting features and target variable\n",
    "        selected_features = st.sidebar.multiselect(\"Select features for regression\", df.columns)\n",
    "        selected_target = st.sidebar.selectbox(\"Select the target variable\", df.columns)\n",
    "\n",
    "        if st.sidebar.button(\"Train Model\"):\n",
    "            # Split dataset into training and testing sets\n",
    "            X = df[selected_features]\n",
    "            y = df[selected_target]\n",
    "            X_train, X_test, y_train, y_test = train_test_split(X, y, test_size=0.2, random_state=42)\n",
    "\n",
    "            # Train a simple linear regression model\n",
    "            model = LinearRegression()\n",
    "            model.fit(X_train, y_train)\n",
    "\n",
    "            # Make predictions\n",
    "            y_pred = model.predict(X_test)\n",
    "\n",
    "            # Show model performance\n",
    "            st.write(\"Model trained successfully!\")\n",
    "            st.write(\"Mean Absolute Error:\", np.mean(np.abs(y_pred - y_test)))\n",
    "\n",
    "            # Download predictions\n",
    "            st.sidebar.markdown(\"---\")\n",
    "            st.sidebar.markdown(\"### Download Predictions\")\n",
    "            st.sidebar.write(\"Download the predictions made by the model.\")\n",
    "            if st.sidebar.button(\"Download Predictions\"):\n",
    "                # Create a DataFrame with predictions\n",
    "                predictions_df = pd.DataFrame({\"Actual\": y_test, \"Predicted\": y_pred})\n",
    "                # Convert DataFrame to CSV and download\n",
    "                predictions_csv = predictions_df.to_csv(index=False)\n",
    "                st.sidebar.download_button(label=\"Download CSV\", data=predictions_csv, file_name=\"predictions.csv\", mime=\"text/csv\")"
   ]
  }
 ],
 "metadata": {
  "kernelspec": {
   "display_name": "Python 3",
   "language": "python",
   "name": "python3"
  },
  "language_info": {
   "codemirror_mode": {
    "name": "ipython",
    "version": 3
   },
   "file_extension": ".py",
   "mimetype": "text/x-python",
   "name": "python",
   "nbconvert_exporter": "python",
   "pygments_lexer": "ipython3",
   "version": "3.11.5"
  }
 },
 "nbformat": 4,
 "nbformat_minor": 2
}
